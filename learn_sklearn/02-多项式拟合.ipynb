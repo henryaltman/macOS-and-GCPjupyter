{
 "cells": [
  {
   "cell_type": "code",
   "execution_count": 19,
   "metadata": {},
   "outputs": [],
   "source": [
    "from sklearn import datasets\n",
    "from sklearn.model_selection import train_test_split\n",
    "import matplotlib.pyplot as plt\n",
    "%matplotlib inline\n",
    "import time\n",
    "\n",
    "from sklearn.linear_model import LinearRegression\n",
    "\n",
    "from sklearn.metrics import mean_squared_error\n",
    "\n",
    "\n",
    "import pandas as pd\n",
    "import numpy as np\n"
   ]
  },
  {
   "cell_type": "code",
   "execution_count": 33,
   "metadata": {},
   "outputs": [
    {
     "name": "stdout",
     "output_type": "stream",
     "text": [
      "[[ 1.62434536]\n",
      " [-0.61175641]\n",
      " [-0.52817175]\n",
      " [-1.07296862]\n",
      " [ 0.86540763]\n",
      " [-2.3015387 ]\n",
      " [ 1.74481176]\n",
      " [-0.7612069 ]\n",
      " [ 0.3190391 ]\n",
      " [-0.24937038]] \n",
      " \n",
      " [[0.74700483]\n",
      " [0.34037929]\n",
      " [0.79530117]\n",
      " [0.48790094]\n",
      " [0.52566944]\n",
      " [0.02849085]\n",
      " [0.64423202]\n",
      " [0.3506565 ]\n",
      " [0.22920503]\n",
      " [0.43388338]]\n"
     ]
    }
   ],
   "source": [
    "np.random.seed(1)\n",
    "# 生成误差项(向量)\n",
    "x_normal = np.random.normal(0,1,(700,1))  # 统计量参数、(shape)\n",
    "x_uni = np.random.uniform(0,1,(700,1))   # 统计量参数、(shape)\n",
    "print(x_1[:10],'\\n','\\n', x_2[:10] )\n",
    "\n",
    "y1 = x_normal**2 + x_uni\n",
    "y2 = x_uni**2 + x_normal\n",
    "# 有趣！！！！！  \n",
    "# x_normal 的平方加上 x_uni ---> 二次函数可很好拟合（x_normal 是函数值的主要部分）：下图红色\n",
    "# x_uni 的平方加上 x_normal ---> 一次函数可很好拟合（x_uni 是函数值的主要部分）：下图蓝色"
   ]
  },
  {
   "cell_type": "code",
   "execution_count": 39,
   "metadata": {},
   "outputs": [
    {
     "data": {
      "image/png": "[encoded data removed]",
      "text/plain": [
       "<Figure size 432x288 with 1 Axes>"
      ]
     },
     "metadata": {
      "needs_background": "light"
     },
     "output_type": "display_data"
    }
   ],
   "source": [
    "x = np.sort(x_1, axis=0)\n",
    "y1 = np.sort(y1, axis=0)\n",
    "y2 = np.sort(y2, axis=0)\n",
    "\n",
    "plt.plot(x ,y1, \"ro\", label=\"normal's squ\")\n",
    "plt.plot(x ,y2, \"bo\", label=\"uniform's squ\")\n",
    "\n",
    "plt.show()"
   ]
  },
  {
   "cell_type": "code",
   "execution_count": 42,
   "metadata": {},
   "outputs": [
    {
     "data": {
      "text/plain": [
       "0.7356630426584193"
      ]
     },
     "execution_count": 42,
     "metadata": {},
     "output_type": "execute_result"
    }
   ],
   "source": [
    "# 一次方拟合\n",
    "model = LinearRegression()\n",
    "model.fit(x,y1)\n",
    "    # r2 score\n",
    "model.score(x,y1)"
   ]
  },
  {
   "cell_type": "code",
   "execution_count": 44,
   "metadata": {},
   "outputs": [
    {
     "data": {
      "text/plain": [
       "0.9660763897452935"
      ]
     },
     "execution_count": 44,
     "metadata": {},
     "output_type": "execute_result"
    }
   ],
   "source": [
    "# 二次方拟合\n",
    "x_ploy_2 = np.array([x, x**2]).T.reshape(-1,2)\n",
    "model = LinearRegression()\n",
    "model.fit(x_ploy_2,y1)\n",
    "    # r2 score\n",
    "model.score(x_ploy_2,y1)"
   ]
  },
  {
   "cell_type": "code",
   "execution_count": 48,
   "metadata": {},
   "outputs": [
    {
     "data": {
      "text/plain": [
       "0.9967875057309781"
      ]
     },
     "execution_count": 48,
     "metadata": {},
     "output_type": "execute_result"
    }
   ],
   "source": [
    "# 高次方拟合\n",
    "x_ploy_7 = np.array([x, x**2, x**3, x**4, x**5, x**6, x**7]).T.reshape(-1,7)\n",
    "model = LinearRegression()\n",
    "model.fit(x_ploy_7,y1)\n",
    "    # r2 score\n",
    "model.score(x_ploy_7,y1)"
   ]
  },
  {
   "cell_type": "code",
   "execution_count": null,
   "metadata": {},
   "outputs": [],
   "source": []
  }
 ],
 "metadata": {
  "kernelspec": {
   "display_name": "Python 3",
   "language": "python",
   "name": "python3"
  },
  "language_info": {
   "codemirror_mode": {
    "name": "ipython",
    "version": 3
   },
   "file_extension": ".py",
   "mimetype": "text/x-python",
   "name": "python",
   "nbconvert_exporter": "python",
   "pygments_lexer": "ipython3",
   "version": "3.6.3"
  }
 },
 "nbformat": 4,
 "nbformat_minor": 4
}
