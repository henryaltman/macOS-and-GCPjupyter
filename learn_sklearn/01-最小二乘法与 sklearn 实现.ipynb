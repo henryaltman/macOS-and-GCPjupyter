{
 "cells": [
  {
   "cell_type": "code",
   "execution_count": 2,
   "metadata": {},
   "outputs": [],
   "source": [
    "from sklearn import datasets\n",
    "from sklearn.model_selection import train_test_split\n",
    "import matplotlib.pyplot as plt\n",
    "%matplotlib inline\n",
    "import time\n"
   ]
  },
  {
   "cell_type": "code",
   "execution_count": 6,
   "metadata": {},
   "outputs": [
    {
     "name": "stdout",
     "output_type": "stream",
     "text": [
      "(300, 1)\n",
      "(300,)\n"
     ]
    },
    {
     "data": {
      "image/png": "[encoded data removed]",
      "text/plain": [
       "<Figure size 432x288 with 1 Axes>"
      ]
     },
     "metadata": {
      "needs_background": "light"
     },
     "output_type": "display_data"
    }
   ],
   "source": [
    "x, y = datasets.make_regression(n_samples=300, n_features=1, noise=5, random_state=1, bias=50)\n",
    "print(x.shape)\n",
    "print(y.shape)\n",
    "\n",
    "x_train, x_test, y_train, y_test = train_test_split(x, y, test_size=0.3, random_state=0)\n",
    "\n",
    "plt.scatter(x, y)\n",
    "plt.show()"
   ]
  },
  {
   "cell_type": "code",
   "execution_count": 8,
   "metadata": {},
   "outputs": [
    {
     "data": {
      "text/plain": [
       "array([[ 0.21112476,  1.        ],\n",
       "       [-1.09491185,  1.        ],\n",
       "       [-0.69166075,  1.        ],\n",
       "       [-1.23312074,  1.        ],\n",
       "       [-0.02461696,  1.        ]])"
      ]
     },
     "execution_count": 8,
     "metadata": {},
     "output_type": "execute_result"
    }
   ],
   "source": [
    "# x ---> (x,1)\n",
    "\n",
    "import numpy as np\n",
    "\n",
    "# (n * \"1\")\n",
    "bias_column = np.ones((x.shape[0], 1))\n",
    "\n",
    "# (x,1)  : concatenate((a, b),axis = 0/1)\n",
    "x_new = np.concatenate((x, bias_column), axis=1)\n",
    "x_new[:5]"
   ]
  },
  {
   "cell_type": "code",
   "execution_count": 10,
   "metadata": {},
   "outputs": [
    {
     "data": {
      "text/plain": [
       "array([44.22928803, 49.9617937 ])"
      ]
     },
     "execution_count": 10,
     "metadata": {},
     "output_type": "execute_result"
    }
   ],
   "source": [
    "# theta = ? = (A^T A)^-1 A^T y\n",
    "theta = np.dot(np.dot(np.linalg.inv(np.dot(x_new.T, x_new)), x_new.T),y)\n",
    "theta"
   ]
  },
  {
   "cell_type": "code",
   "execution_count": 16,
   "metadata": {},
   "outputs": [
    {
     "data": {
      "image/png": "[encoded data removed]",
      "text/plain": [
       "<Figure size 432x288 with 1 Axes>"
      ]
     },
     "metadata": {
      "needs_background": "light"
     },
     "output_type": "display_data"
    }
   ],
   "source": [
    "# y = wx +b\n",
    "# b = 49.9617937\n",
    "# w = 44.22928803\n",
    "\n",
    "x_0 = np.min(x)\n",
    "x_1 = np.max(x)\n",
    "y_0 = theta[1]*x_0 +theta[0]\n",
    "y_1 = theta[1]*x_1 +theta[0]\n",
    "\n",
    "plt.scatter(x, y, alpha=0.5)\n",
    "plt.plot([x_0, x_1], [y_0, y_1], c='r', alpha=0.7)\n",
    "plt.show()"
   ]
  },
  {
   "cell_type": "code",
   "execution_count": 21,
   "metadata": {},
   "outputs": [
    {
     "name": "stdout",
     "output_type": "stream",
     "text": [
      "[59.2996913   1.53462231 19.37013109 -4.57825849 48.87300326]\n",
      "[62.80194527 19.4821722  24.20153503  0.30939899 47.31715495]\n"
     ]
    }
   ],
   "source": [
    "# 导入线性模型（表达函数集）\n",
    "from sklearn import linear_model\n",
    "\n",
    "# 导入衡量指标（损失函数）\n",
    "from sklearn import metrics\n",
    "\n",
    "# 选择模型\n",
    "model = linear_model.LinearRegression()\n",
    "# 训练模型\n",
    "model.fit(x, y)  # 会自动加上 bias 项\n",
    "# 预测(一般放入新的数据)\n",
    "prediction_result = model.predict(x)\n",
    "\n",
    "print(prediction_result[:5])\n",
    "print(y[:5])"
   ]
  },
  {
   "cell_type": "code",
   "execution_count": 23,
   "metadata": {},
   "outputs": [
    {
     "name": "stdout",
     "output_type": "stream",
     "text": [
      "mse: 22.1546536162187\n",
      "rmse: 4.706873018918048\n",
      "r2: 0.9874466693641443\n"
     ]
    }
   ],
   "source": [
    "# mse\n",
    "mse = metrics.mean_squared_error(y, prediction_result)\n",
    "print(\"mse:\",mse)\n",
    "\n",
    "# rmse\n",
    "rmse = np.sqrt(mse)\n",
    "print(\"rmse:\",rmse)\n",
    "\n",
    "# r2\n",
    "r2 = metrics.r2_score(y, prediction_result)\n",
    "print(\"r2:\",r2)"
   ]
  },
  {
   "cell_type": "code",
   "execution_count": 24,
   "metadata": {},
   "outputs": [
    {
     "name": "stdout",
     "output_type": "stream",
     "text": [
      "w: [44.22928803]\n",
      "b 49.961793696563234\n"
     ]
    }
   ],
   "source": [
    "# 获取模型中训练好的 w、b\n",
    "print('w:',model.coef_)\n",
    "print('b',model.intercept_)"
   ]
  },
  {
   "cell_type": "code",
   "execution_count": null,
   "metadata": {},
   "outputs": [],
   "source": []
  }
 ],
 "metadata": {
  "kernelspec": {
   "display_name": "Python 3",
   "language": "python",
   "name": "python3"
  },
  "language_info": {
   "codemirror_mode": {
    "name": "ipython",
    "version": 3
   },
   "file_extension": ".py",
   "mimetype": "text/x-python",
   "name": "python",
   "nbconvert_exporter": "python",
   "pygments_lexer": "ipython3",
   "version": "3.6.3"
  }
 },
 "nbformat": 4,
 "nbformat_minor": 4
}
