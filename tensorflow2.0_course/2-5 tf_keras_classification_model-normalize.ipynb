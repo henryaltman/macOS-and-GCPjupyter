{
 "cells": [
  {
   "cell_type": "code",
   "execution_count": 2,
   "metadata": {},
   "outputs": [
    {
     "name": "stdout",
     "output_type": "stream",
     "text": [
      "1.14.0\n",
      "sys.version_info(major=3, minor=6, micro=8, releaselevel='final', serial=0)\n",
      "matplotlib 3.1.1\n",
      "numpy 1.17.1\n",
      "pandas 0.25.1\n",
      "sklearn 0.21.3\n",
      "tensorflow 1.14.0\n",
      "tensorflow.python.keras.api._v1.keras 2.2.4-tf\n"
     ]
    }
   ],
   "source": [
    "import matplotlib as mpl\n",
    "import matplotlib.pyplot as plt\n",
    "%matplotlib inline\n",
    "import numpy as np\n",
    "import sklearn\n",
    "import pandas as pd\n",
    "import os\n",
    "import sys\n",
    "import time\n",
    "import tensorflow as tf\n",
    "\n",
    "from tensorflow import keras\n",
    "\n",
    "print(tf.__version__)\n",
    "print(sys.version_info)\n",
    "for module in mpl, np, pd, sklearn, tf, keras:\n",
    "    print(module.__name__, module.__version__)"
   ]
  },
  {
   "cell_type": "code",
   "execution_count": 3,
   "metadata": {},
   "outputs": [
    {
     "name": "stdout",
     "output_type": "stream",
     "text": [
      "(5000, 28, 28) (5000,)\n",
      "(55000, 28, 28) (55000,)\n",
      "(10000, 28, 28) (10000,)\n"
     ]
    }
   ],
   "source": [
    "fashion_mnist = keras.datasets.fashion_mnist\n",
    "(x_train_all, y_train_all), (x_test, y_test) = fashion_mnist.load_data()\n",
    "x_valid, x_train = x_train_all[:5000], x_train_all[5000:]\n",
    "y_valid, y_train = y_train_all[:5000], y_train_all[5000:]\n",
    "\n",
    "print(x_valid.shape, y_valid.shape)\n",
    "print(x_train.shape, y_train.shape)\n",
    "print(x_test.shape, y_test.shape)"
   ]
  },
  {
   "cell_type": "code",
   "execution_count": 4,
   "metadata": {},
   "outputs": [
    {
     "name": "stdout",
     "output_type": "stream",
     "text": [
      "255 0\n"
     ]
    }
   ],
   "source": [
    "print(np.max(x_train), np.min(x_train))"
   ]
  },
  {
   "cell_type": "code",
   "execution_count": 5,
   "metadata": {},
   "outputs": [
    {
     "name": "stdout",
     "output_type": "stream",
     "text": [
      "2.0231433 -0.8105136\n"
     ]
    }
   ],
   "source": [
    "# x = (x - u) / std\n",
    "# 归一化处理\n",
    "\n",
    "from sklearn.preprocessing import StandardScaler\n",
    "\n",
    "scaler = StandardScaler()\n",
    "# x_train: [None, 28, 28] -> [None, 784]  训练集归一化\n",
    "# 要做除法所以要转成 float32，转成二维的，然后再转回三维的\n",
    "x_train_scaled = scaler.fit_transform(\n",
    "    x_train.astype(np.float32).reshape(-1, 1)).reshape(-1, 28, 28)\n",
    "# 对其他数据集做同样的处理（不用 fit ）\n",
    "x_valid_scaled = scaler.transform(\n",
    "    x_valid.astype(np.float32).reshape(-1, 1)).reshape(-1, 28, 28)\n",
    "x_test_scaled = scaler.transform(\n",
    "    x_test.astype(np.float32).reshape(-1, 1)).reshape(-1, 28, 28)\n",
    "\n",
    "\n",
    "# fit_transform 和transform的区别\n",
    "# fit 首先训练数据，然后model从训练数据得到必要的变换信息，如特征方差和期望等，并保存为模型的参数\n",
    "# transform 根据参数，对训练数据做需要的变换。\n",
    "\n",
    "print(np.max(x_train_scaled), np.min(x_train_scaled))"
   ]
  },
  {
   "cell_type": "code",
   "execution_count": 6,
   "metadata": {},
   "outputs": [
    {
     "name": "stdout",
     "output_type": "stream",
     "text": [
      "WARNING:tensorflow:From /home/tflingjie_gmail_com/env/tf_py3/lib/python3.6/site-packages/tensorflow/python/ops/init_ops.py:1251: calling VarianceScaling.__init__ (from tensorflow.python.ops.init_ops) with dtype is deprecated and will be removed in a future version.\n",
      "Instructions for updating:\n",
      "Call initializer instance with the dtype argument instead of passing it to the constructor\n"
     ]
    }
   ],
   "source": [
    "model = keras.models.Sequential([\n",
    "    keras.layers.Flatten(input_shape=[28, 28]),\n",
    "    keras.layers.Dense(300, activation='relu'),\n",
    "    keras.layers.Dense(100, activation='relu'),\n",
    "    keras.layers.Dense(10, activation='softmax')\n",
    "])\n",
    "\n",
    "model.compile(loss=\"sparse_categorical_crossentropy\",\n",
    "              optimizer = \"sgd\",\n",
    "              metrics = [\"accuracy\"])"
   ]
  },
  {
   "cell_type": "code",
   "execution_count": 10,
   "metadata": {
    "scrolled": true
   },
   "outputs": [
    {
     "name": "stdout",
     "output_type": "stream",
     "text": [
      "Train on 55000 samples, validate on 5000 samples\n",
      "Epoch 1/20\n",
      "55000/55000 [==============================] - 4s 79us/sample - loss: 0.2375 - acc: 0.9140 - val_loss: 0.3045 - val_acc: 0.8866\n",
      "Epoch 2/20\n",
      "55000/55000 [==============================] - 4s 73us/sample - loss: 0.2293 - acc: 0.9161 - val_loss: 0.3003 - val_acc: 0.8908\n",
      "Epoch 3/20\n",
      "55000/55000 [==============================] - 4s 72us/sample - loss: 0.2208 - acc: 0.9194 - val_loss: 0.2967 - val_acc: 0.8892\n",
      "Epoch 4/20\n",
      "55000/55000 [==============================] - 4s 72us/sample - loss: 0.2128 - acc: 0.9240 - val_loss: 0.2956 - val_acc: 0.8932\n",
      "Epoch 5/20\n",
      "55000/55000 [==============================] - 4s 70us/sample - loss: 0.2057 - acc: 0.9252 - val_loss: 0.2948 - val_acc: 0.8914\n",
      "Epoch 6/20\n",
      "55000/55000 [==============================] - 4s 72us/sample - loss: 0.1981 - acc: 0.9282 - val_loss: 0.3197 - val_acc: 0.8866\n",
      "Epoch 7/20\n",
      "55000/55000 [==============================] - 4s 73us/sample - loss: 0.1908 - acc: 0.9308 - val_loss: 0.2914 - val_acc: 0.8972\n",
      "Epoch 8/20\n",
      "55000/55000 [==============================] - 4s 71us/sample - loss: 0.1851 - acc: 0.9330 - val_loss: 0.2906 - val_acc: 0.8958\n",
      "Epoch 9/20\n",
      "55000/55000 [==============================] - 4s 72us/sample - loss: 0.1787 - acc: 0.9353 - val_loss: 0.2985 - val_acc: 0.8924\n",
      "Epoch 10/20\n",
      "55000/55000 [==============================] - 4s 70us/sample - loss: 0.1730 - acc: 0.9381 - val_loss: 0.2928 - val_acc: 0.8954\n",
      "Epoch 11/20\n",
      "55000/55000 [==============================] - 4s 71us/sample - loss: 0.1663 - acc: 0.9399 - val_loss: 0.3026 - val_acc: 0.8944\n",
      "Epoch 12/20\n",
      "55000/55000 [==============================] - 4s 73us/sample - loss: 0.1606 - acc: 0.9422 - val_loss: 0.3007 - val_acc: 0.8948\n",
      "Epoch 13/20\n",
      "55000/55000 [==============================] - 4s 73us/sample - loss: 0.1550 - acc: 0.9454 - val_loss: 0.3120 - val_acc: 0.8906\n",
      "Epoch 14/20\n",
      "55000/55000 [==============================] - 4s 72us/sample - loss: 0.1499 - acc: 0.9468 - val_loss: 0.3028 - val_acc: 0.8934\n",
      "Epoch 15/20\n",
      "55000/55000 [==============================] - 4s 81us/sample - loss: 0.1440 - acc: 0.9492 - val_loss: 0.3075 - val_acc: 0.8952\n",
      "Epoch 16/20\n",
      "55000/55000 [==============================] - 5s 84us/sample - loss: 0.1394 - acc: 0.9510 - val_loss: 0.2947 - val_acc: 0.9010\n",
      "Epoch 17/20\n",
      "55000/55000 [==============================] - 4s 71us/sample - loss: 0.1340 - acc: 0.9529 - val_loss: 0.3079 - val_acc: 0.8960\n",
      "Epoch 18/20\n",
      "55000/55000 [==============================] - 4s 72us/sample - loss: 0.1303 - acc: 0.9538 - val_loss: 0.3218 - val_acc: 0.8882\n",
      "Epoch 19/20\n",
      "55000/55000 [==============================] - 4s 72us/sample - loss: 0.1241 - acc: 0.9565 - val_loss: 0.3248 - val_acc: 0.8918\n",
      "Epoch 20/20\n",
      "55000/55000 [==============================] - 4s 71us/sample - loss: 0.1215 - acc: 0.9575 - val_loss: 0.3098 - val_acc: 0.8996\n"
     ]
    }
   ],
   "source": [
    "history = model.fit(x_train_scaled, y_train, epochs=20,\n",
    "                    validation_data=(x_valid_scaled, y_valid))"
   ]
  },
  {
   "cell_type": "code",
   "execution_count": 11,
   "metadata": {},
   "outputs": [
    {
     "data": {
      "image/png": "[encoded data removed]",
      "text/plain": [
       "<Figure size 576x360 with 1 Axes>"
      ]
     },
     "metadata": {
      "needs_background": "light"
     },
     "output_type": "display_data"
    }
   ],
   "source": [
    "def plot_learning_curves(history):\n",
    "    pd.DataFrame(history.history).plot(figsize=(8, 5))\n",
    "    plt.grid(True)\n",
    "    plt.gca().set_ylim(0, 1)\n",
    "    plt.show()\n",
    "\n",
    "plot_learning_curves(history)"
   ]
  },
  {
   "cell_type": "code",
   "execution_count": 12,
   "metadata": {},
   "outputs": [
    {
     "name": "stdout",
     "output_type": "stream",
     "text": [
      "10000/10000 [==============================] - 0s 39us/sample - loss: 0.3501 - acc: 0.8892\n"
     ]
    },
    {
     "data": {
      "text/plain": [
       "[0.3501264241874218, 0.8892]"
      ]
     },
     "execution_count": 12,
     "metadata": {},
     "output_type": "execute_result"
    }
   ],
   "source": [
    "model.evaluate(x_test_scaled, y_test)"
   ]
  },
  {
   "cell_type": "code",
   "execution_count": null,
   "metadata": {},
   "outputs": [],
   "source": []
  }
 ],
 "metadata": {
  "kernelspec": {
   "display_name": "Python 3",
   "language": "python",
   "name": "python3"
  },
  "language_info": {
   "codemirror_mode": {
    "name": "ipython",
    "version": 3
   },
   "file_extension": ".py",
   "mimetype": "text/x-python",
   "name": "python",
   "nbconvert_exporter": "python",
   "pygments_lexer": "ipython3",
   "version": "3.6.8"
  }
 },
 "nbformat": 4,
 "nbformat_minor": 2
}
