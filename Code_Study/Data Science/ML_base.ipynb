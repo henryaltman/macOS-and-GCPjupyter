{
 "cells": [
  {
   "cell_type": "code",
   "execution_count": 1,
   "metadata": {},
   "outputs": [],
   "source": [
    "# 机器学习"
   ]
  },
  {
   "cell_type": "code",
   "execution_count": 2,
   "metadata": {},
   "outputs": [],
   "source": [
    "# how\n",
    "# 1, 建模（定义好输入到输出）\n",
    "# 2, 评估（看看够不够好）\n",
    "# 3, 优化（调整参数）"
   ]
  },
  {
   "cell_type": "code",
   "execution_count": 3,
   "metadata": {},
   "outputs": [],
   "source": [
    "# use\n",
    "# 1. 有监督学习：用已知输出评估模型的性能。\n",
    "# 2. 无监督学习：在没有已知输出的情况下，仅仅根据输入信息的相关性，进行类别的划分。\n",
    "# 3. 半监督学习：先通过无监督学习划分类别，再根据人工标记通过有监督学习预测输出。\n",
    "# 4. 强化学习：通过对不同决策结果的奖励和惩罚，\n",
    "#            使机器学习系统在经过足够长时间的训练以后，越来越倾向于给出接近期望结果的输出。\n",
    "\n",
    "# 1. 批量学习：将学习的过程和应用的过程截然分开，用全部的训练数据训练模型，然后再在应用场景中实现预测，当预测结果不够理想时，重新回到学习过程，如此循环。\n",
    "# 2. 增量学习：将学习的过程和应用的过程统一起来，在应用的同时以增量的方式，不断学习新的内容，边训练边预测。\n",
    "\n",
    "# 基于实例的学习和基于模型的学习\n",
    "# 1. 根据以往的经验，寻找与待预测输入最接近的样本，以其输出作为预测结果。  - 只输出以前出现过的值（概率统计）\n",
    "# 2. 基于模型的学习：根据以往的经验，建立用于联系输出和输入的某种数学模型，\n",
    "#     将待预测输入代入该模型，预测其结果。（这就是为什么加工过的材料更容易记忆）- 可以输出以前没有出现过的值（线代、微积分）"
   ]
  },
  {
   "cell_type": "code",
   "execution_count": 4,
   "metadata": {},
   "outputs": [],
   "source": [
    "# 机器学习的一般过程\n",
    "\n",
    "\n",
    "# **数据处理**\n",
    "# 可以卖的数据长什么样？标记好的\n",
    "\n",
    "# 1. 数据收集 （数据检索、数据挖掘、爬虫）\n",
    "# 2. 数据清洗\n",
    "# 3. 特征工程（域、属性的选择取舍）\n",
    "\n",
    "# **机器学习**\n",
    "\n",
    "# 1. 选择模型 （算法）\n",
    "# 2. 训练模型 （算法）\n",
    "# 3. 评估模型 （工具、框架、算法知识）\n",
    "# 4. 测试模型\n",
    "\n",
    "# **业务运维**\n",
    "\n",
    "# 1. 应用模型 （封装）\n",
    "# 2. 维护模型 （版本管理、性能）\n"
   ]
  },
  {
   "cell_type": "code",
   "execution_count": 5,
   "metadata": {},
   "outputs": [],
   "source": [
    "# 机器学习的基本问题\n",
    "\n",
    "\n",
    "# 1)回归问题：根据已知的输入和输出寻找某种性能最佳的模型，将未知输出的输入代入模型，得到连续的输出。\n",
    "#     密集特征\n",
    "\n",
    "# 2)分类问题：根据已知的输入和输出寻找某种性能最佳的模型，将未知输出的输入代入模型，得到离散的输出。\n",
    "#     稀疏特征\n",
    "\n",
    "# 3)聚类问题：根据已知输入的相似程度，将其划分为不同的群落。\n",
    "\n",
    "\n",
    "# 4)降维问题：在性能损失尽可能小的前提下，降低数据的复杂度。\n",
    "\n"
   ]
  },
  {
   "cell_type": "code",
   "execution_count": 6,
   "metadata": {},
   "outputs": [],
   "source": [
    "# 数据预处理\n",
    "\n",
    "\n",
    "# 均值移除(标准化)\n",
    "\n",
    "# 范围缩放 (列操作、对某种特征)\n",
    "\n",
    "# 归一化（行操作，对某个样本对象）\n",
    "\n",
    "# 二值化\n",
    "\n",
    "# 独热编码(one hot 稀疏编码)\n",
    "\n",
    "# 标签编码（字符串编成数字）"
   ]
  },
  {
   "cell_type": "markdown",
   "metadata": {},
   "source": [
    "# 线性回归\n",
    "\n",
    "```python\n",
    "import sklearn.linear_model as lm\n",
    "\n",
    "# 创建模型\n",
    "model = lm.linearRegression()\n",
    "# 训练模型\n",
    "# 输入为一个二维数组表示的样本矩阵\n",
    "# 输出为每个样本最终的结果\n",
    "model.fit(输入, 输出) # 通过梯度下降法计算模型参数\n",
    "# 预测输出  \n",
    "# 输入array是一个二维数组，每一行是一个样本，每一列是一个特征。\n",
    "result = model.predict(array)\n",
    "```\n",
    "\n",
    "\n",
    "## 评估训练结果误差（metrics）\n",
    "```python\n",
    "import sklearn.metrics as sm\n",
    "\n",
    "# 平均绝对值误差：1/m∑|实际输出-预测输出|\n",
    "sm.mean_absolute_error(y, pred_y)\n",
    "# 平均平方误差：SQRT(1/mΣ(实际输出-预测输出)^2)\n",
    "sm.mean_squared_error(y, pred_y)\n",
    "# 中位绝对值误差：MEDIAN(|实际输出-预测输出|)\n",
    "sm.median_absolute_error(y, pred_y)\n",
    "# R2得分，(0,1]区间的分值。分数越高，误差越小。\n",
    "sm.r2_score(y, pred_y)\n",
    "```\n",
    "\n",
    "## 模型的保存和加载"
   ]
  },
  {
   "cell_type": "markdown",
   "metadata": {},
   "source": [
    "# 岭回归 (减少异常值影响的操作)（可以部分解决多重共线性）\n",
    "\n",
    "## 可能性（一种专用于共线性数据分析的有偏估计回归方法）\n",
    "· 普通线性回归模型使用基于梯度下降的最小二乘法，在最小化损失函数的前提下，寻找最优模型参数，\n",
    "· 于此过程中，包括少数异常样本在内的全部训练数据都会对最终模型参数造成程度相等的影响，\n",
    "· 异常值对模型所带来影响无法在训练过程中被识别出来。\n",
    "## 结论\n",
    "· 通常岭回归方程的R平方值会稍低于普通回归分析，但回归系数的显著性往往明显高于普通回归\n",
    "\n",
    "## 办法(降噪后的线性回归)\n",
    "· 岭回归在模型迭代过程所依据的损失函数中增加了正则项，以限制模型参数对异常样本的匹配程度，\n",
    "· 进而提高模型面对多数正常样本的拟合精度。\n",
    "· **共线性问题可以转化为矩阵不满秩**，从而在解矩阵方程中，异常值影响太大，通过在损失函数加入一项\n",
    "\n",
    "```python\n",
    "import sklearn.linear_model as lm\n",
    "# 创建模型\n",
    "model = lm.Ridge(正则强度，fit_intercept=是否训练截距, max_iter=最大迭代次数)\n",
    "# 训练模型\n",
    "# 输入为一个二维数组表示的样本矩阵\n",
    "# 输出为每个样本最终的结果\n",
    "model.fit(输入, 输出)\n",
    "# 预测输出  \n",
    "# 输入array是一个二维数组，每一行是一个样本，每一列是一个特征。\n",
    "result = model.predict(array)\n",
    "```\n"
   ]
  },
  {
   "cell_type": "code",
   "execution_count": 16,
   "metadata": {},
   "outputs": [
    {
     "data": {
      "image/png": "[encoded data removed]",
      "text/plain": [
       "<Figure size 432x288 with 1 Axes>"
      ]
     },
     "metadata": {},
     "output_type": "display_data"
    }
   ],
   "source": [
    "# 案例：加载abnormal.txt文件中的数据，基于岭回归算法训练回归模型。\n",
    "import numpy as np\n",
    "import sklearn.linear_model as lm\n",
    "import matplotlib.pyplot as mp\n",
    "# 采集数据\n",
    "x, y = np.loadtxt('/Users/peng/Desktop/ToStudent/month05 datasci/ml_data/abnormal.txt', \n",
    "                  delimiter=',', usecols=(0,1), unpack=True)\n",
    "x = x.reshape(-1, 1)\n",
    "# 创建线性回归模型\n",
    "model = lm.LinearRegression() \n",
    "# 训练模型\n",
    "model.fit(x, y)\n",
    "# 根据输入预测输出\n",
    "pred_y1 = model.predict(x)\n",
    "# 创建岭回归模型\n",
    "model = lm.Ridge(150, fit_intercept=True, max_iter=10000) \n",
    "# 训练模型\n",
    "model.fit(x, y)\n",
    "# 根据输入预测输出\n",
    "pred_y2 = model.predict(x)\n",
    "\n",
    "mp.figure('Linear & Ridge', facecolor='lightgray')\n",
    "mp.title('Linear & Ridge', fontsize=20)\n",
    "mp.xlabel('x', fontsize=14)\n",
    "mp.ylabel('y', fontsize=14)\n",
    "mp.tick_params(labelsize=10)\n",
    "mp.grid(linestyle=':')\n",
    "mp.scatter(x, y, c='dodgerblue', alpha=0.75,\n",
    "           s=60, label='Sample')\n",
    "sorted_indices = x.T[0].argsort()\n",
    "mp.plot(x[sorted_indices], pred_y1[sorted_indices],\n",
    "        c='orangered', label='Linear')\n",
    "mp.plot(x[sorted_indices], pred_y2[sorted_indices],\n",
    "        c='limegreen', label='Ridge')\n",
    "mp.legend()\n",
    "mp.show()"
   ]
  },
  {
   "cell_type": "markdown",
   "metadata": {},
   "source": [
    "# 多项式回归（更高拟合度）\n",
    "\n",
    "## 作用\n",
    "· 更好的拟合训练样本数据，可以使用多项式回归器。\n",
    "\n",
    "## 步骤：\n",
    "1. 将一元多项式回归问题转换为多元线性回归问题（只需给出多项式最高次数即可）。\n",
    "2. 将1步骤得到多项式的结果中 w<sub>1</sub>  w<sub>2</sub>  .. 当做样本特征，交给线性回归器训练多元线性模型。\n",
    "\n",
    "## 使用sklearn提供的**数据管线**实现两个步骤的顺序执行：\n",
    "\n",
    "```python\n",
    "import sklearn.pipeline as pl\n",
    "import sklearn.preprocessing as sp\n",
    "import sklearn.linear_model as lm\n",
    "\n",
    "model = pl.make_pipeline(\n",
    "    sp.PolynomialFeatures(10),  # 多项式特征扩展器\n",
    "    lm.LinearRegression())      # 线性回归器\n",
    "```"
   ]
  },
  {
   "cell_type": "code",
   "execution_count": 18,
   "metadata": {},
   "outputs": [
    {
     "data": {
      "image/png": "[encoded data removed]",
      "text/plain": [
       "<Figure size 432x288 with 1 Axes>"
      ]
     },
     "metadata": {},
     "output_type": "display_data"
    }
   ],
   "source": [
    "# 案例：\n",
    "\n",
    "\n",
    "import numpy as np\n",
    "import sklearn.pipeline as pl\n",
    "import sklearn.preprocessing as sp\n",
    "import sklearn.linear_model as lm\n",
    "import sklearn.metrics as sm\n",
    "import matplotlib.pyplot as mp\n",
    "# 采集数据\n",
    "x, y = np.loadtxt('/Users/peng/Desktop/ToStudent/month05 datasci/ml_data/single.txt', delimiter=',', usecols=(0,1), unpack=True)\n",
    "x = x.reshape(-1, 1)\n",
    "# 创建模型(管线)\n",
    "model = pl.make_pipeline(\n",
    "    sp.PolynomialFeatures(10),  # 多项式特征扩展器\n",
    "    lm.LinearRegression())      # 线性回归器\n",
    "# 训练模型\n",
    "model.fit(x, y)\n",
    "# 根据输入预测输出\n",
    "pred_y = model.predict(x)\n",
    "test_x = np.linspace(x.min(), x.max(), 1000).reshape(-1, 1)\n",
    "pred_test_y = model.predict(test_x)\n",
    "mp.figure('Polynomial Regression', facecolor='lightgray')\n",
    "mp.title('Polynomial Regression', fontsize=20)\n",
    "mp.xlabel('x', fontsize=14)\n",
    "mp.ylabel('y', fontsize=14)\n",
    "mp.tick_params(labelsize=10)\n",
    "mp.grid(linestyle=':')\n",
    "mp.scatter(x, y, c='dodgerblue', alpha=0.75, s=60, label='Sample')\n",
    "mp.plot(test_x, pred_test_y, c='orangered', label='Regression')\n",
    "mp.legend()\n",
    "mp.show()\n",
    "\n",
    "\n",
    "\n",
    "# 拟合度问题（可以观察方差与离差：过拟合：预测值与实际值离差小，自身方差（波动）大）\n",
    "# 过于简单的模型，无论对于训练数据还是测试数据都无法给出足够高的预测精度，这种现象叫做欠拟合。\n",
    "\n",
    "# 过于复杂的模型，对于训练数据可以得到较高的预测精度，但对于测试数据通常精度较低，这种现象叫做过拟合。\n",
    "\n",
    "# 一个性能可以接受的学习模型应该对训练数据和测试数据都有接近的预测精度，而且精度不能太低。\n",
    "\n",
    "\n",
    "# 训练集R2   测试集R2\n",
    "# 0.3        0.4        欠拟合：过于简单，无法反映数据的规则\n",
    "# 0.9        0.2        过拟合：过于复杂，太特殊，缺乏一般性\n",
    "# 0.7        0.6        可接受：复杂度适中，既反映数据的规则，同时又不失一般性"
   ]
  },
  {
   "cell_type": "markdown",
   "metadata": {},
   "source": [
    "# 决策树\n",
    "\n",
    "## 基本算法原理\n",
    "\n",
    "核心思想：相似的输入必会产生相似的输出。例如预测某人薪资：\n",
    "对中间值的缺失不敏感（因为前面的特征信息增益比较大）\n",
    "\n",
    "## 办法\n",
    "· 基于实例的学习\n",
    "· 首先从训练样本矩阵中选择第一个特征进行子表划分，使每个子表中该特征的值全部相同\n",
    "· 然后再在每个子表中选择下一个特征按照同样的规则继续划分更小的子表，不断重复直到所有的特征全部使用完为止\n",
    "· 通过平均(回归)或者投票(分类)为待预测样本提供输出。\n",
    "\n",
    "\n",
    "· 案例：预测波士顿地区房屋价格。\n",
    "\n",
    "1. 读取数据，打断原始数据集。 划分训练集和测试集。\n",
    "\n",
    "```python\n",
    "import sklearn.datasets as sd\n",
    "import sklearn.utils as su\n",
    "# 加载波士顿地区房价数据集\n",
    "boston = sd.load_boston()\n",
    "print(boston.feature_names)\n",
    "# |CRIM|ZN|INDUS|CHAS|NOX|RM|AGE|DIS|RAD|TAX|PTRATIO|B|LSTAT|\n",
    "# 犯罪率|住宅用地比例|商业用地比例|是否靠河|空气质量|房间数|年限|距中心区距离|路网密度|房产税|师生比|黑人比例|低地位人口比例|\n",
    "# 打乱原始数据集的输入和输出\n",
    "x, y = su.shuffle(boston.data, boston.target, random_state=7)\n",
    "# 划分训练集和测试集\n",
    "train_size = int(len(x) * 0.8)\n",
    "train_x, test_x, train_y, test_y = \\\n",
    "    x[:train_size], x[train_size:], \\\n",
    "    y[:train_size], y[train_size:]\n",
    "```\n",
    "2. 创建决策树回归器模型，使用训练集训练模型。使用测试集测试模型。\n",
    "\n",
    "```python\n",
    "import sklearn.tree as st\n",
    "import sklearn.metrics as sm\n",
    "\n",
    "# 创建决策树回归模型\n",
    "model = st.DecisionTreeRegressor(max_depth=4)\n",
    "# 训练模型\n",
    "model.fit(train_x, train_y)\n",
    "# 测试模型\n",
    "pred_test_y = model.predict(test_x)\n",
    "print(sm.r2_score(test_y, pred_test_y))\n",
    "```\n",
    "\n",
    "\n",
    "### 工程优化(降低决策树的层数,降低复杂度)\n",
    "· 可以优先选择使<b style='color:red;'>信息熵</b> g(D,A) = H(D)- H(D|A)减少量最大的特征作为划分子表的依据。\n",
    "\n",
    "### 集合算法\n",
    "· 根据多个不同模型给出的预测结果，利用平均(回归)或者投票(分类)的方法，得出最终预测结果。\n",
    "\n",
    "· 基于决策树的集合算法，就是按照某种规则，构建多棵彼此不同的决策树模型，分别给出针对未知样本的预测结果，最后通过平均或投票得到相对综合的结论。\n",
    "\n",
    "\n",
    "#### 正向激励\n",
    "· 首先为样本矩阵中的样本随机分配初始权重，由此构建一棵带有权重的决策树，\n",
    "· 将训练集样本代入模型，预测其输出，\n",
    "· 在由该决策树提供预测输出时，通过加权平均或者加权投票的方式产生预测值。（权重用于调整预测值）\n",
    " \n",
    "· 对那些预测值与实际值不同的样本，提高其权重，由此形成第二棵决策树。  **激励**\n",
    "· 重复以上过程，构建出不同权重的若干棵决策树。\n",
    "\n",
    "\n",
    "\n",
    "**特征重要性**\n",
    "\n",
    "作为决策树模型训练过程的副产品，根据每个特征划分子表前后的信息熵减少量就标志了该特征的重要程度，此即为该特征重要性指标。训练得到的模型对象提供了属性：feature_importances_来存储每个特征的重要性。\n",
    "\n",
    "获取样本矩阵特征重要性属性：\n",
    "\n",
    "```python\n",
    "model.fit(train_x, train_y)\n",
    "fi = model.feature_importances_\n",
    "```\n"
   ]
  },
  {
   "cell_type": "code",
   "execution_count": 20,
   "metadata": {},
   "outputs": [
    {
     "data": {
      "text/plain": [
       "'随机森林需要调整的参数有：\\n（1）    决策树的个数\\n（2）    特征属性的个数\\n（3）    递归次数（即决策树的深度）'"
      ]
     },
     "execution_count": 20,
     "metadata": {},
     "output_type": "execute_result"
    }
   ],
   "source": [
    "# 自助聚合\n",
    "\n",
    "\n",
    "# 随机森林\n",
    "'''随机森林需要调整的参数有：\n",
    "（1）    决策树的个数\n",
    "（2）    特征属性的个数\n",
    "（3）    递归次数（即决策树的深度）'''"
   ]
  },
  {
   "cell_type": "code",
   "execution_count": 21,
   "metadata": {},
   "outputs": [
    {
     "ename": "SyntaxError",
     "evalue": "invalid syntax (<ipython-input-21-ab06aadf8e6e>, line 4)",
     "output_type": "error",
     "traceback": [
      "\u001b[0;36m  File \u001b[0;32m\"<ipython-input-21-ab06aadf8e6e>\"\u001b[0;36m, line \u001b[0;32m4\u001b[0m\n\u001b[0;31m    **多元分类**\u001b[0m\n\u001b[0m     ^\u001b[0m\n\u001b[0;31mSyntaxError\u001b[0m\u001b[0;31m:\u001b[0m invalid syntax\n"
     ]
    }
   ],
   "source": [
    "# 逻辑分类\n",
    "\n",
    "\n",
    "# **多元分类**"
   ]
  },
  {
   "cell_type": "code",
   "execution_count": 22,
   "metadata": {},
   "outputs": [],
   "source": [
    "# 朴素贝叶斯分类  \n",
    "# *贝叶斯定理：P(A|B)=P(A) P(B|A)/P(B)   <==  P(A, B) = P(A) P(B|A) = P(B) P(A|B)\n",
    "# 可以使用韦恩图理解，P(A|B)= P(A, B) / P(B)  知B则A = A且B（交集） 分之 B"
   ]
  },
  {
   "cell_type": "code",
   "execution_count": 24,
   "metadata": {},
   "outputs": [
    {
     "ename": "SyntaxError",
     "evalue": "invalid syntax (<ipython-input-24-a71ab0c1f49b>, line 8)",
     "output_type": "error",
     "traceback": [
      "\u001b[0;36m  File \u001b[0;32m\"<ipython-input-24-a71ab0c1f49b>\"\u001b[0;36m, line \u001b[0;32m8\u001b[0m\n\u001b[0;31m    **交叉验证指标**\u001b[0m\n\u001b[0m     ^\u001b[0m\n\u001b[0;31mSyntaxError\u001b[0m\u001b[0;31m:\u001b[0m invalid syntax\n"
     ]
    }
   ],
   "source": [
    "# 数据集划分\n",
    "# 对于分类问题训练集和测试集的划分不应该用整个样本空间的特定百分比作为训练数据，\n",
    "# 而应该在其每一个类别的样本中抽取特定百分比作为训练数据。\n",
    "# sklearn模块提供了数据集划分相关方法，可以方便的划分训练集与测试集数据，\n",
    "# 使用不同数据集训练或测试模型，达到提高分类可信度。\n",
    "\n",
    "# 交叉验证\n",
    "**交叉验证指标**\n",
    "\n",
    "1. 精确度(accuracy)：分类正确的样本数/总样本数\n",
    "\n",
    "2. 查准率(precision_weighted)：针对每一个类别，预测正确的样本数比上预测出来的样本数\n",
    "\n",
    "3. 召回率(recall_weighted)：针对每一个类别，预测正确的样本数比上实际存在的样本数\n",
    "\n",
    "4. f1得分(f1_weighted)：\n",
    "\n",
    "   2x查准率x召回率/(查准率+召回率)\n",
    "    \n",
    "    \n",
    "    \n",
    "# 混淆矩阵\n",
    "\n",
    "每一行和每一列分别对应样本输出中的每一个类别，行表示实际类别，列表示预测类别。\n",
    "\n",
    "|       | A类别 | B类别 | C类别 |\n",
    "| ----- | ----- | ----- | ----- |\n",
    "| A类别 | 5     | 0     | 0     |\n",
    "| B类别 | 0     | 6     | 0     |\n",
    "| C类别 | 0     | 0     | 7     |\n",
    "\n",
    "上述矩阵即为理想的混淆矩阵。不理想的混淆矩阵如下：\n",
    "\n",
    "|       | A类别 | B类别 | C类别 |\n",
    "| ----- | ----- | ----- | ----- |\n",
    "| A类别 | 3     | 1     | 1     |\n",
    "| B类别 | 0     | 4     | 2     |\n",
    "| C类别 | 0     | 0     | 7     |\n",
    "\n",
    " 查准率 = 主对角线上的值 / 该值所在列的和 \n",
    "\n",
    "召回率 = 主对角线上的值 / 该值所在行的和\n",
    "\n",
    "\n",
    "\n",
    "# 分类报告\n",
    "\n"
   ]
  },
  {
   "cell_type": "code",
   "execution_count": null,
   "metadata": {},
   "outputs": [],
   "source": [
    "# 决策树分类\n"
   ]
  }
 ],
 "metadata": {
  "kernelspec": {
   "display_name": "Python 3",
   "language": "python",
   "name": "python3"
  },
  "language_info": {
   "codemirror_mode": {
    "name": "ipython",
    "version": 3
   },
   "file_extension": ".py",
   "mimetype": "text/x-python",
   "name": "python",
   "nbconvert_exporter": "python",
   "pygments_lexer": "ipython3",
   "version": "3.6.3"
  }
 },
 "nbformat": 4,
 "nbformat_minor": 4
}
