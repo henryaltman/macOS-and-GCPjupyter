{
 "cells": [
  {
   "cell_type": "code",
   "execution_count": 1,
   "metadata": {},
   "outputs": [],
   "source": [
    "# 基础数值算法\n",
    "# 标量与向量、矩阵的运算(多维数组实现)\n",
    "# \n",
    "\n",
    "# 是一种底层库\n",
    "# C 语言实现\n"
   ]
  },
  {
   "cell_type": "code",
   "execution_count": 16,
   "metadata": {},
   "outputs": [
    {
     "name": "stdout",
     "output_type": "stream",
     "text": [
      "[1 2 3 4 5 6] \n",
      " <class 'numpy.ndarray'>\n",
      "[2 3 4 5 6 7]\n",
      "[ 2  4  6  8 10 12]\n",
      "[ 2  4  6  8 10 12]\n"
     ]
    }
   ],
   "source": [
    "import numpy as np\n",
    "ary = np.array([1,2,3,4,5,6])\n",
    "print(ary,'\\n', type(ary))\n",
    "print(ary+1)\n",
    "print(ary*2)\n",
    "print(ary+ary)"
   ]
  },
  {
   "cell_type": "code",
   "execution_count": 17,
   "metadata": {},
   "outputs": [],
   "source": [
    "# 内存实际结构： 堆栈数据结构   元数据+实际数据  元数据字段：指针-->实际数据    \n",
    "# 不可变数据类型，查找方便（连续的存储）  解耦实际存储与元数据的修改（减少实际访问实际数据）\n",
    "# dimcount ：维数（数值）  shape：维度（向量）\n",
    "\n",
    "# !!!!! 新启示 !!!!!!!\n",
    "# 向量可以看做是定义在数字符号上特定操作的数据结构，数字本身是可以被抽象出来的"
   ]
  },
  {
   "cell_type": "code",
   "execution_count": 19,
   "metadata": {},
   "outputs": [
    {
     "name": "stdout",
     "output_type": "stream",
     "text": [
      "[0 1 2 3 4 5 6 7 8 9]\n",
      "[0 2 4 6 8]\n"
     ]
    }
   ],
   "source": [
    "# 数组的创建\n",
    "a_ary = np.arange(0,10)\n",
    "print(a_ary)\n",
    "\n",
    "b_ary = np.arange(0,10,2)\n",
    "print(b_ary)"
   ]
  },
  {
   "cell_type": "code",
   "execution_count": 25,
   "metadata": {},
   "outputs": [
    {
     "name": "stdout",
     "output_type": "stream",
     "text": [
      "[0. 0. 0. 0. 0. 0. 0. 0. 0. 0. 0. 0.]\n",
      "[0. 0. 0. 0. 0. 0. 0. 0. 0. 0.]\n"
     ]
    }
   ],
   "source": [
    "# 数组的创建\n",
    "z_ary = np.zeros(12)\n",
    "print(z_ary)\n",
    "\n",
    "z_ary = np.zeros(10, dtype='float32')\n",
    "print(z_ary)"
   ]
  },
  {
   "cell_type": "code",
   "execution_count": 30,
   "metadata": {},
   "outputs": [
    {
     "name": "stdout",
     "output_type": "stream",
     "text": [
      "[1. 1. 1. 1. 1. 1. 1. 1. 1. 1. 1. 1.]\n",
      "[[1 1 1]\n",
      " [1 1 1]\n",
      " [1 1 1]]\n",
      "[[0. 0. 0.]\n",
      " [0. 0. 0.]\n",
      " [0. 0. 0.]]\n",
      "[0.2 0.2 0.2 0.2 0.2]\n"
     ]
    }
   ],
   "source": [
    "# 数组的创建\n",
    "o_ary = np.ones(12)\n",
    "print(o_ary)\n",
    "\n",
    "o_ary = np.ones((3, 3), dtype='int32')\n",
    "print(o_ary)\n",
    "\n",
    "l_ary = np.zeros_like(o_ary)\n",
    "print(l_ary)\n",
    "\n",
    "print(np.ones(5)/5)  # 可以直接对创建出的数组对象进行运算"
   ]
  },
  {
   "cell_type": "code",
   "execution_count": 24,
   "metadata": {},
   "outputs": [
    {
     "name": "stdout",
     "output_type": "stream",
     "text": [
      "[[1 2 3]\n",
      " [4 5 6]] \n",
      " (2, 3)\n"
     ]
    }
   ],
   "source": [
    "# 数组的创建: 逗号分隔一行\n",
    "a_ary = np.array([[1,2,3],[4,5,6]])\n",
    "print(a_ary, '\\n', a_ary.shape)"
   ]
  },
  {
   "cell_type": "code",
   "execution_count": 39,
   "metadata": {},
   "outputs": [
    {
     "name": "stdout",
     "output_type": "stream",
     "text": [
      "[1 2 3 4 5 6] \n",
      " (6,)\n",
      "[[1 2 3]\n",
      " [4 5 6]] \n",
      " shape: (2, 3)\n",
      "dtype: int64\n",
      "size: 6\n",
      "len: 2\n"
     ]
    }
   ],
   "source": [
    "# 数组对象的基本操作\n",
    "ary = np.arange(1,7)\n",
    "print(ary, '\\n',ary.shape)\n",
    "\n",
    "ary.shape = (2, 3)\n",
    "print(ary, '\\n','shape:',ary.shape)\n",
    "\n",
    "print('dtype:',ary.dtype)\n",
    "print('size:',ary.size)   # 属性， 返回元素个数\n",
    "print('len:', len(ary))   # method, 返回行数"
   ]
  },
  {
   "cell_type": "code",
   "execution_count": 43,
   "metadata": {},
   "outputs": [
    {
     "name": "stdout",
     "output_type": "stream",
     "text": [
      "[[[ 1  2  3]\n",
      "  [ 4  5  6]]\n",
      "\n",
      " [[ 7  8  9]\n",
      "  [10 11 12]]\n",
      "\n",
      " [[13 14 15]\n",
      "  [16 17 18]]]\n",
      "元素 8： 8\n"
     ]
    }
   ],
   "source": [
    "# 数组对象的基本操作\n",
    "a = np.arange(1,19)\n",
    "a.shape = (3,2,3)  # 翻书式：\"页，行，列\"\n",
    "print(a)\n",
    "\n",
    "# 元素‘8’ ，在‘第二页’，‘第一行’，’第二列‘\n",
    "print('元素 8：', a[1][0][1])   # a[1][0][1] 等价于 a[1, 0, 1]"
   ]
  },
  {
   "cell_type": "code",
   "execution_count": 44,
   "metadata": {},
   "outputs": [
    {
     "name": "stdout",
     "output_type": "stream",
     "text": [
      "[ 1  2  3  4  5  6  7  8  9 10 11 12 13 14 15 16 17 18]\n"
     ]
    }
   ],
   "source": [
    "# 数据类型转换\n",
    "a = np.arange(1,19)\n",
    "a.astype('str')\n",
    "print(a)"
   ]
  },
  {
   "cell_type": "code",
   "execution_count": 78,
   "metadata": {
    "collapsed": true
   },
   "outputs": [
    {
     "name": "stdout",
     "output_type": "stream",
     "text": [
      "[['zs' list([90, 80, 85]) 15]\n",
      " ['ls' list([92, 81, 83]) 16]\n",
      " ['ww' list([95, 85, 95]) 15]]\n",
      "ls 的分数： [92 81 83]\n",
      "zs [90 80 85] 32\n",
      "1234\n",
      "34 12\n"
     ]
    },
    {
     "name": "stderr",
     "output_type": "stream",
     "text": [
      "/Library/Frameworks/Python.framework/Versions/3.6/lib/python3.6/site-packages/ipykernel_launcher.py:13: FutureWarning: Passing (type, 1) or '1type' as a synonym of type is deprecated; in a future version of numpy, it will be understood as (type, (1,)) / '(1,)type'.\n",
      "  del sys.path[0]\n"
     ]
    }
   ],
   "source": [
    "# 自定义数组类型\n",
    "data=[\n",
    "\t('zs', [90, 80, 85], 15),\n",
    "\t('ls', [92, 81, 83], 16),\n",
    "\t('ww', [95, 85, 95], 15)\n",
    "]\n",
    "\n",
    "a = np.array(data)   # 设置 data 的方式一 np.array(data, dtype='U2, 3int32, int32') \n",
    "print(a)\n",
    "\n",
    "\n",
    " # 设置 data 的方式二\n",
    "b = np.array(data, dtype=[('name', 'str_', 2), ('scores', 'int32', 3), ('age', 'int32', 1)])  # 第一个参数相当于设置别名\n",
    "print('ls 的分数：', b[1]['scores'])\n",
    "\n",
    " # 设置 data 的方式三\n",
    "# ary = np.array(data, dtype={\n",
    "#     'name':['name', 'scores', 'age'],\n",
    "#     'formats':['U2', '3int32', 'int32']})\n",
    "\n",
    "# print('ls 的名字：', ary[2]['name'])\n",
    "\n",
    "#第四种设置dtype的方式  \n",
    "d = np.array(data, dtype={'names': ('U3', 0),\n",
    "                    'scores': ('3int32', 16),\n",
    "                    'ages': ('int32', 28)})\n",
    "print(d[0]['names'], d[0]['scores'], d.itemsize)\n",
    "\n",
    "#第五种设置dtype的方式\n",
    "e = np.array([0x1234, 0x5667],\n",
    "             dtype=('u2', {'lowc': ('u1', 0),\n",
    "                            'hignc': ('u1', 1)}))\n",
    "print('%x' % e[0])\n",
    "print('%x %x' % (e['lowc'][0], e['hignc'][0]))\n"
   ]
  },
  {
   "cell_type": "code",
   "execution_count": 56,
   "metadata": {},
   "outputs": [
    {
     "name": "stdout",
     "output_type": "stream",
     "text": [
      "['2011' '2011-01-01' '2012-01-07' '2012-01-01 08:20:20'] <U19\n",
      "['2011-01-01' '2011-01-01' '2012-01-07' '2012-01-01']\n",
      "-6 days\n"
     ]
    }
   ],
   "source": [
    "# 日期类型数组\n",
    "\n",
    "data = ['2011', '2011-01-01', '2012-01-07','2012-01-01 08:20:20']\n",
    "data = np.array(data)\n",
    "print(data, data.dtype)\n",
    "\n",
    "data = data.astype('M8[D]')\n",
    "print(data)\n",
    "print(data[3] - data[2])"
   ]
  },
  {
   "cell_type": "code",
   "execution_count": 57,
   "metadata": {},
   "outputs": [],
   "source": [
    "# 类型字符码(简写方式)"
   ]
  },
  {
   "cell_type": "code",
   "execution_count": 62,
   "metadata": {},
   "outputs": [
    {
     "name": "stdout",
     "output_type": "stream",
     "text": [
      "[1 2 3 4 5 6 7 8 9] (9,)\n",
      "[[1 2 3]\n",
      " [4 5 6]\n",
      " [7 8 9]] (3, 3)\n",
      "[1 2 3 4 5 6 7 8 9] (9,)\n",
      "[999 999 999   4   5   6   7   8   9]\n"
     ]
    }
   ],
   "source": [
    "# 数组变维 (视图变维，数据共享)\n",
    "a = np.arange(1,10)\n",
    "print(a, a.shape)\n",
    "b = a.reshape(3,3)\n",
    "print(b, b.shape)\n",
    "c = a.ravel()\n",
    "print(c, c.shape)\n",
    "\n",
    "b[0] = 999   # 改变 b 的值，a 也会改变\n",
    "print(a)"
   ]
  },
  {
   "cell_type": "code",
   "execution_count": 68,
   "metadata": {},
   "outputs": [
    {
     "name": "stdout",
     "output_type": "stream",
     "text": [
      "[[1 2 3]\n",
      " [4 5 6]\n",
      " [7 8 9]] (3, 3)\n",
      "[1 2 3 4 5 6 7 8 9] (9,)\n",
      "[[1 2 3]\n",
      " [4 5 6]\n",
      " [7 8 9]] (3, 3)\n",
      "[999   2   3   4   5   6   7   8   9] (9,)\n",
      "[[1 2 3]\n",
      " [4 5 6]\n",
      " [7 8 9]] (3, 3)\n"
     ]
    }
   ],
   "source": [
    "# 数组变维 (复制变维，数据独立)\n",
    "a = np.arange(1,10)\n",
    "b = a.reshape(3,3)\n",
    "print(b, b.shape)\n",
    "e = b.flatten()   # 并不修改 b \n",
    "print(e, e.shape)\n",
    "print(b, b.shape)\n",
    "\n",
    "e[0] = 999   # 并不修改 b \n",
    "print(e, e.shape)\n",
    "print(b, b.shape)"
   ]
  },
  {
   "cell_type": "code",
   "execution_count": 72,
   "metadata": {},
   "outputs": [
    {
     "name": "stdout",
     "output_type": "stream",
     "text": [
      "[1 2 3 4 5 6 7 8 9] (9,)\n",
      "[[1 2 3 4 5 6 7 8 9]] (1, 9)\n",
      "[[1]\n",
      " [2]\n",
      " [3]\n",
      " [4]\n",
      " [5]\n",
      " [6]\n",
      " [7]\n",
      " [8]\n",
      " [9]] (9, 1)\n",
      "[[1 2 3]\n",
      " [4 5 6]\n",
      " [7 8 9]] (3, 3)\n"
     ]
    }
   ],
   "source": [
    "# 数组变维 （其他，直接改）\n",
    "a = np.arange(1,10)  # 默认行向量（一行时，可以省略一对中括号）\n",
    "print(a, a.shape)\n",
    "a.shape = (-1,9)   # 列向量变行向量\n",
    "print(a, a.shape)  # 行向量的另一种写法\n",
    "# [1 2 3 4 5 6 7 8 9] (9,)   等价于   [[1 2 3 4 5 6 7 8 9]] (1, 9)\n",
    "\n",
    "a.shape = (9, -1)  # 行向量变列向量\n",
    "print(a, a.shape)\n",
    "\n",
    "a.resize(3,3)\n",
    "print(a, a.shape)"
   ]
  },
  {
   "cell_type": "code",
   "execution_count": 73,
   "metadata": {},
   "outputs": [],
   "source": [
    "# 数组切片操作（原来的方法）\n",
    "# 多维数组的切片操作（逗号，然后分别用原来的方法）"
   ]
  },
  {
   "cell_type": "code",
   "execution_count": 80,
   "metadata": {},
   "outputs": [
    {
     "name": "stdout",
     "output_type": "stream",
     "text": [
      "[ 3  6  9 12 15 18 21 24 27 30 33 36 39 42 45 48 51 54 57 60 63 66 69 72\n",
      " 75 78 81 84 87 90 93 96 99]\n",
      "mask: [False False False False False False False False False False False False\n",
      " False False False False False False False False  True False False False\n",
      " False False False False False False False False False False False False\n",
      " False False False False False  True False False False False False False\n",
      " False False False False False False False False False False False False\n",
      " False False  True False False False False False False False False False\n",
      " False False False False False False False False False False False  True\n",
      " False False False False False False False False False False False False\n",
      " False False False]\n",
      "[30 50 70 90 70 50 30 90]\n",
      "[3 2 1 0]\n",
      "[30 50 70 90]\n"
     ]
    }
   ],
   "source": [
    "# 数组的掩码操作   (向量化运算核心，应用场景：大数之中找子集，有规律就写到 mask 中，然后再找)\n",
    "a = np.arange(1, 100)\n",
    "mask = a % 3 == 0  # 此时 mask 是一个 1*100 的向量，元素要么是 Ture 要么是 False（==、>、< 条件判断符）\n",
    "print(a[mask])    # 掩码操作\n",
    "\n",
    "mask = (a % 3 == 0) & (a % 7 == 0)   \n",
    "print('mask:' ,mask)  # mask 本身\n",
    "\n",
    "# 下标掩码\n",
    "b = np.array([90, 70, 50, 30])\n",
    "mask = np.array([3,2,1,0,1,2,3,0])\n",
    "print(b[mask])\n",
    "\n",
    "indices = b.argsort()\n",
    "print(indices)\n",
    "print(b[indices])"
   ]
  },
  {
   "cell_type": "code",
   "execution_count": 81,
   "metadata": {},
   "outputs": [],
   "source": [
    "# 多维数组的组合与拆分\n"
   ]
  },
  {
   "cell_type": "code",
   "execution_count": 1,
   "metadata": {},
   "outputs": [],
   "source": [
    "# 类的其他属性\n",
    "\n",
    "\n"
   ]
  },
  {
   "cell_type": "code",
   "execution_count": 2,
   "metadata": {},
   "outputs": [],
   "source": [
    "\n",
    "\n",
    "\n",
    "# day 03 pm\n",
    "\n",
    "\n"
   ]
  },
  {
   "cell_type": "code",
   "execution_count": 3,
   "metadata": {},
   "outputs": [],
   "source": [
    "# numpy常用函数"
   ]
  },
  {
   "cell_type": "code",
   "execution_count": 13,
   "metadata": {},
   "outputs": [
    {
     "data": {
      "image/png": "[encoded data removed]",
      "text/plain": [
       "<Figure size 432x288 with 1 Axes>"
      ]
     },
     "metadata": {
      "needs_background": "light"
     },
     "output_type": "display_data"
    }
   ],
   "source": [
    "# 加载文件\n",
    "\n",
    "import numpy as np\n",
    "import matplotlib.pyplot as mp\n",
    "import datetime as dt\n",
    "import matplotlib.dates as md\n",
    "\n",
    "def dmy2ymd(dmy):\n",
    "    # 把日月年 变 年月日\n",
    "    dmy = str(dmy, encoding='utf-8')\n",
    "    t = dt.datetime.strptime(dmy, '%d-%m-%Y')\n",
    "    s = t.date().strftime('%Y-%m-%d')\n",
    "    return s\n",
    "\n",
    "dates, opening_prices, highest_prices, lowst_prices, closing_prices = \\\n",
    "np.loadtxt('/Users/peng/Desktop/ToStudent/month05 datasci/da_data/aapl.csv',\n",
    "           delimiter=',',\n",
    "           usecols=(1,3,4,5,6),\n",
    "           unpack=True,\n",
    "           dtype='M8[D], f8, f8, f8, f8',\n",
    "           converters={1:dmy2ymd}   # 像 map 函数, 预处理第一列\n",
    "          )\n",
    "\n",
    "# print(dates)\n",
    "\n",
    "mp.figure('AAPL')\n",
    "mp.title('AAPL')\n",
    "mp.xlabel('Dates')\n",
    "mp.ylabel('Price')\n",
    "mp.grid(linestyle=':')\n",
    "# 设置刻度定位器\n",
    "# 每周一一个主刻度，其余为次刻度\n",
    "ax = mp.gca()\n",
    "ax.xaxis.set_major_locator(md.WeekdayLocator(byweekday=md.MO))\n",
    "ax.xaxis.set_major_formatter(md.DateFormatter('%Y-%m-%d'))\n",
    "ax.xaxis.set_minor_locator(md.DayLocator())\n",
    "\n",
    "mp.plot(dates, closing_prices, color='dodgerblue', linewidth=2, alpha=0.8, label='AAPL CPrice')\n",
    "\n",
    "\n",
    "mp.legend()\n",
    "mp.gcf().autofmt_xdate() # 自适应日期显示？\n",
    "mp.show()"
   ]
  },
  {
   "cell_type": "code",
   "execution_count": 6,
   "metadata": {},
   "outputs": [
    {
     "name": "stdout",
     "output_type": "stream",
     "text": [
      "[ 1  1  0 -1 -1]\n"
     ]
    }
   ],
   "source": [
    "\n",
    "# 数组处理函数\n",
    "\n",
    "\n",
    "# ary = np.piecewise(源数组, 条件序列, 取值序列)\n",
    "# 针对源数组中的每一个元素，检测其是否符合条件序列中的每一个条件，\n",
    "# 符合哪个条件就用取值系列中与之对应的值，表示该元素，放到目标 数组中返回。\n",
    "\n",
    "a = np.array([70, 80, 60, 30, 40])\n",
    "d = np.piecewise(\n",
    "    a, \n",
    "    [a < 60, a == 60, a > 60],\n",
    "    [-1, 0, 1])\n",
    "# d = [ 1  1  0 -1 -1]\n",
    "print(d)"
   ]
  },
  {
   "cell_type": "code",
   "execution_count": 2,
   "metadata": {},
   "outputs": [],
   "source": [
    "\n",
    "\n",
    "\n",
    "# day 06\n",
    "\n",
    "\n"
   ]
  },
  {
   "cell_type": "code",
   "execution_count": 3,
   "metadata": {},
   "outputs": [
    {
     "name": "stdout",
     "output_type": "stream",
     "text": [
      "[1 0 0 0 1 1]\n"
     ]
    }
   ],
   "source": [
    "# 符号数组\n",
    "\n",
    "# ary = np.sign(源数组)\n",
    "\n",
    "import numpy as np\n",
    "import matplotlib.pyplot as mp\n",
    "\n",
    "\n",
    "ary = np.array([60, 40, 10, 3, 80, 70])\n",
    "r = np.piecewise(ary,[np.all([ary<=100, ary>=60], axis=0),ary<60],[1, 0])\n",
    "print(r)"
   ]
  },
  {
   "cell_type": "code",
   "execution_count": 9,
   "metadata": {},
   "outputs": [
    {
     "name": "stdout",
     "output_type": "stream",
     "text": [
      "4.123105625617661\n",
      "[4.12310563 5.38516481 6.70820393]\n",
      "[4.12310563 5.38516481 6.70820393]\n"
     ]
    },
    {
     "data": {
      "text/plain": [
       "array([4.123105625617661, 5.385164807134504, 6.708203932499369],\n",
       "      dtype=object)"
      ]
     },
     "execution_count": 9,
     "metadata": {},
     "output_type": "execute_result"
    }
   ],
   "source": [
    "# 矢量化\n",
    "\n",
    "# numpy提供了vectorize函数，可以把处理标量的函数矢量化，返回的函数可以直接处理ndarray数组。\n",
    "\n",
    "import math as m\n",
    "import numpy as np\n",
    "\n",
    "def foo(x, y):\n",
    "    return m.sqrt(x**2 + y**2)\n",
    "\n",
    "x, y = 1, 4\n",
    "print(foo(x, y))\n",
    "X, Y = np.array([1, 2, 3]), np.array([4, 5, 6])\n",
    "vectorized_foo = np.vectorize(foo)\n",
    "print(vectorized_foo(X, Y))\n",
    "print(np.vectorize(foo)(X, Y))\n",
    "\n",
    "# 还提供了frompyfuc函数，也可以完成与vectorize相同的功能：\n",
    "\n",
    "# 把foo转换成矢量函数，该矢量函数接收2个参数，返回一个结果 \n",
    "fun = np.frompyfunc(foo, 2, 1)\n",
    "fun(X, Y)\n",
    "\n",
    "\n",
    "\n",
    "# 定义一种买进卖出策略，通过历史数据判断这种策略是否值得实施。\n",
    "\n",
    "\n",
    "\n"
   ]
  },
  {
   "cell_type": "code",
   "execution_count": 14,
   "metadata": {},
   "outputs": [],
   "source": [
    "# 矩阵\n",
    "\n",
    "\n",
    "# 矩阵对象的创建\n",
    "\n",
    "# 如果copy的值为True(缺省)，所得到的矩阵对象与参数中的源容器共享同一份数据，否则，各自拥有独立的数据拷贝。\n",
    "# numpy.matrix(\n",
    "#     ary,\t\t# 任何可被解释为矩阵的二维容器\n",
    "#   \tcopy=True\t# 是否复制数据(缺省值为True，即复制数据)\n",
    "# 等价于：numpy.matrix(..., copy=False)\n",
    "# 由该函数创建的矩阵对象与参数中的源容器一定共享数据，无法拥有独立的数据拷贝\n",
    "    \n",
    "# numpy.mat(任何可被解释为矩阵的二维容器)\n",
    "# 该函数可以接受字符串形式的矩阵描述：\n",
    "# 数据项通过空格分隔，数据行通过分号分隔。例如：'1 2 3; 4 5 6'\n",
    "# numpy.mat(拼块规则)"
   ]
  },
  {
   "cell_type": "code",
   "execution_count": 15,
   "metadata": {},
   "outputs": [
    {
     "name": "stdout",
     "output_type": "stream",
     "text": [
      "[[ 31  60  74]\n",
      " [ 46  87 116]\n",
      " [ 64 120 161]]\n"
     ]
    }
   ],
   "source": [
    "# 矩阵的乘法：乘积矩阵的第i行第j列的元素等于\n",
    "# 被乘数矩阵的第i行与乘数矩阵的第j列的点积\n",
    "#\n",
    "#           1   2   6\n",
    "#    X----> 3   5   7\n",
    "#    |      4   8   9\n",
    "#    |\n",
    "# 1  2  6   31  60  74\n",
    "# 3  5  7   46  87 116\n",
    "# 4  8  9   64 120 161\n",
    "e = np.mat('1 2 6; 3 5 7; 4 8 9')\n",
    "print(e * e)"
   ]
  },
  {
   "cell_type": "code",
   "execution_count": 16,
   "metadata": {},
   "outputs": [
    {
     "name": "stdout",
     "output_type": "stream",
     "text": [
      "[[-0.73333333  2.         -1.06666667]\n",
      " [ 0.06666667 -1.          0.73333333]\n",
      " [ 0.26666667  0.         -0.06666667]]\n",
      "[[1.00000000e+00 0.00000000e+00 1.38777878e-16]\n",
      " [1.66533454e-16 1.00000000e+00 5.68989300e-16]\n",
      " [5.55111512e-17 0.00000000e+00 1.00000000e+00]]\n"
     ]
    }
   ],
   "source": [
    "# 矩阵的逆矩阵\n",
    "\n",
    "e = np.mat('1 2 6; 3 5 7; 4 8 9')\n",
    "print(e.I)\n",
    "print(e * e.I)\n",
    "\n",
    "\n",
    "# ndarray提供了方法让多维数组替代矩阵的运算： \n",
    "a = np.array([\n",
    "    [1, 2, 6],\n",
    "    [3, 5, 7],\n",
    "    [4, 8, 9]])\n",
    "# 点乘法求ndarray的点乘结果，与矩阵的乘法运算结果相同\n",
    "k = a.dot(a)\n",
    "print(k)\n",
    "# linalg模块中的inv方法可以求取a的逆矩阵\n",
    "l = np.linalg.inv(a)\n",
    "print(l)"
   ]
  },
  {
   "cell_type": "code",
   "execution_count": null,
   "metadata": {},
   "outputs": [],
   "source": [
    "# 通用函数\n",
    "\n",
    "# clip（）将调用数组中小于和大于下限和上限的元素替换为下限和上限，返回裁剪后的数组，调\n",
    "# 用数组保持不变。\n",
    "ndarray.clip(min=下限, max=上限)\n",
    "\n",
    "# compress（）返回由调用数组中满足条件的元素组成的新数组。\n",
    "ndarray.compress(条件)\n",
    "\n",
    "# prod（）返回调用数组中所有元素的乘积——累乘。\n",
    "ndarray.prod()\n",
    "# cumprod（）返回调用数组中所有元素执行累乘的过程数组。\n",
    "ndarray.cumprod()\n",
    "\n",
    "\n",
    "# 加法通用函数 \n",
    "add(a, a) \t\t\t\t\t# 两数组相加\n",
    "add.reduce(a) \t\t\t\t# a数组元素累加和\n",
    "add.accumulate(a) \t\t\t# 累加和过程\n",
    "add.outer([10, 20, 30], a)\t# 外和\n",
    "\n",
    "# 除法通用函数\n",
    "np.true_divide(a, b) \t# a 真除 b  （对应位置相除）\n",
    "np.divide(a, b) \t\t# a 真除 b\n",
    "np.floor_divide(a, b)\t# a 地板除 b\t（真除的结果向下取整）\n",
    "np.ceil(a / b) \t\t# a 天花板除 b\t（真除的结果向上取整）\n",
    "np.trunc(a / b)\t\t\t# a 截断除 b\t（真除的结果直接干掉小数部分）\n",
    "\n",
    "# 三角函数通用函数\n",
    "numpy.sin()\n",
    "# 一个方波由如下参数的正弦波叠加而成：\n",
    "y = 4\\pi \\times sin(x) \\\\\n",
    "y = \\frac{4\\pi}{3} \\times sin(3x) \\\\\n",
    "...\\\\\n",
    "...\\\\\n",
    "y = \\frac{4\\pi}{2n-1} \\times sin((2n-1)x)\n",
    "# 曲线叠加的越多，越接近方波。所以可以设计一个函数，接收曲线的数量n作为参数，\n",
    "# 返回一个矢量函数，该函数可以接收x坐标数组，返回n个正弦波叠加得到的y坐标数组。\n",
    "\n",
    "\n",
    "# 位运算通用函数\n",
    "# 位异或  （0、1输入相同输出 0）（只有一男一女才能结婚  ）\n",
    "c = a ^ b\n",
    "c = a.__xor__(b)\n",
    "c = np.bitwise_xor(a, b)\n",
    "\n",
    "a = np.array([0, -1, 2, -3, 4, -5])\n",
    "b = np.array([0, 1, 2, 3, 4, 5])\n",
    "print(a, b)\n",
    "c = a ^ b\n",
    "# c = a.__xor__(b)\n",
    "# c = np.bitwise_xor(a, b)\n",
    "print(np.where(c < 0)[0])"
   ]
  }
 ],
 "metadata": {
  "kernelspec": {
   "display_name": "Python 3",
   "language": "python",
   "name": "python3"
  },
  "language_info": {
   "codemirror_mode": {
    "name": "ipython",
    "version": 3
   },
   "file_extension": ".py",
   "mimetype": "text/x-python",
   "name": "python",
   "nbconvert_exporter": "python",
   "pygments_lexer": "ipython3",
   "version": "3.7.3"
  }
 },
 "nbformat": 4,
 "nbformat_minor": 2
}
