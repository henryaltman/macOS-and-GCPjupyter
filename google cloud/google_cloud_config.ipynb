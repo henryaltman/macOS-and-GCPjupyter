{
 "cells": [
  {
   "cell_type": "markdown",
   "metadata": {},
   "source": [
    "# 安装 python2、3\n",
    "\n",
    "sudo apt-get install python3\n",
    "sudo apt-get install python\n",
    "\n",
    "# 安装 pip 包管理工具\n",
    "\n",
    "sudo apt-get install python-pip\n",
    "sudo apt-get install python3-pip\n",
    "\n",
    "***若无法安装***\n",
    "· sudo apt-get install software-properties-common\n",
    "· sudo apt-add-repository universe\n",
    "· sudo apt-get update"
   ]
  },
  {
   "cell_type": "markdown",
   "metadata": {},
   "source": [
    "# 使用 pip 包管理工具安装 virtualenv\n",
    "\n",
    "sudo pip3 install -U virtualenv\n",
    "\n",
    "> 创建环境文件夹保存不同的环境文件\n",
    "\n",
    "mkdir env\n",
    "\n",
    "cd env\n",
    "\n",
    " virtualenv --system-site-packages -p python3 ./tf_py3\n",
    "\n",
    " virtualenv --system-site-packages -p python3 ./tf2_py3\n",
    " \n",
    " > 激活环境(在 env 文件夹下)\n",
    " \n",
    "source tf_py3/bin/activate\n",
    "source tf2_py3/bin/activate"
   ]
  },
  {
   "cell_type": "markdown",
   "metadata": {},
   "source": [
    "# 在激活的环境下 分别安装 python 依赖库\n",
    "\n",
    "pip install tensorflow numpy matplotlib sklearn pandas jupyterlab\n"
   ]
  },
  {
   "cell_type": "code",
   "execution_count": null,
   "metadata": {},
   "outputs": [],
   "source": [
    "# 配置 jupyter\n",
    "1. 生成配置文件\n",
    "jupyter notebook --generate-config\n",
    "\n",
    "2. 生成密码\n",
    "打开ipython，创建一个sha1密码：\n",
    " In [1]: from notebook.auth import passwd\n",
    " In [2]: passwd()\n",
    " Enter password: \n",
    " Verify password: \n",
    " Out[2]: 'sha1:cexxxxxxxxxxxxxxxxxxxxxxxxxxxxxxxxxxxxxxxxxxx'\n",
    "复制‘sha:cexxxx....’备用\n",
    "    \n",
    "3. 修改配置文件\n",
    " vim ~/.jupyter/jupyter_notebook_config.py \n",
    "修改如下内容：\n",
    "# 接受请求的ip，*为接受所有ip的请求\n",
    "c.NotebookApp.ip='*' \n",
    "# 第3步中生成的密文\n",
    "c.NotebookApp.password = u'sha:cexxxx....' \n",
    "# 不打开浏览器\n",
    "c.NotebookApp.open_browser = False\n",
    "# 服务端口，默认8888，可以修改为自定义端口\n",
    "c.NotebookApp.port = 6100\n",
    "\n",
    "\n",
    "4. 在服务器后台运行jupyter notebook & lab\n",
    "(建议先创建 workspace 文件夹后，在文件夹中运行)\n",
    " (jupyter lab &)"
   ]
  },
  {
   "cell_type": "markdown",
   "metadata": {},
   "source": [
    "# du查看目录大小，df查看磁盘使用情况\n",
    "\n",
    "df -hl 查看磁盘剩余空间\n",
    "df -h 查看每个根路径的分区大小\n",
    "du -sh [目录名] 返回该目录的大小\n",
    "du -sm [文件夹] 返回该文件夹总M数"
   ]
  },
  {
   "cell_type": "markdown",
   "metadata": {},
   "source": [
    "# 创建工作目录保存代码、文档\n",
    "\n",
    "mkdir workspace"
   ]
  },
  {
   "cell_type": "markdown",
   "metadata": {},
   "source": [
    "# 切换环境\n",
    "\n",
    "deactivate"
   ]
  },
  {
   "cell_type": "markdown",
   "metadata": {},
   "source": [
    "# jupyter常用命令模式快捷键：\n",
    "\n",
    "     y: 单元进入代码状态\n",
    "\n",
    "     m: 转入markdown状态\n",
    "\n",
    "     r：转入raw状态\n",
    "\n",
    "     a: 上方插入新单元\n",
    "\n",
    "     b：下方插入新单元\n",
    "\n",
    "     x：剪切选中单元\n",
    "\n",
    "     c: 复制选中单元\n",
    "\n",
    "     shift-v：粘贴到上方单元\n",
    "\n",
    "     v：粘贴到下方单元\n",
    "\n",
    "     d,d（连续按两次d）:删除选中单元\n",
    "\n",
    "     z：恢复最后删除单元\n",
    "\n",
    "     ctrl+Enter:运行本单元，两种模式都适用\n",
    "\n",
    "     shift+Enter：运行本单元，并跳到下个单元，两种模式都适用\n",
    "\n",
    "     alt+Enter：运行本单元，并在下方插入新单元，两种模式都适用"
   ]
  }
 ],
 "metadata": {
  "kernelspec": {
   "display_name": "Python 3",
   "language": "python",
   "name": "python3"
  },
  "language_info": {
   "codemirror_mode": {
    "name": "ipython",
    "version": 3
   },
   "file_extension": ".py",
   "mimetype": "text/x-python",
   "name": "python",
   "nbconvert_exporter": "python",
   "pygments_lexer": "ipython3",
   "version": "3.6.8"
  }
 },
 "nbformat": 4,
 "nbformat_minor": 4
}
